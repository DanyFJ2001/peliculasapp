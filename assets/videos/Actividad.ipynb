{
  "cells": [
    {
      "cell_type": "markdown",
      "id": "18696b01",
      "metadata": {
        "id": "18696b01"
      },
      "source": [
        "# Ejercicios"
      ]
    },
    {
      "cell_type": "markdown",
      "id": "6b3f7656",
      "metadata": {
        "id": "6b3f7656"
      },
      "source": [
        "1. Genera la siguiente lista utilizando comprehension:\n",
        "\n",
        "`[[0], [0, 1], [0, 1, 2], [0, 1, 2, 3], [0, 1, 2, 3, 4]]`"
      ]
    },
    {
      "cell_type": "code",
      "execution_count": 1,
      "id": "47f45253",
      "metadata": {
        "colab": {
          "base_uri": "https://localhost:8080/"
        },
        "id": "47f45253",
        "outputId": "4c9b2b3a-d4de-4bc4-c058-aa211ca70fbc"
      },
      "outputs": [
        {
          "output_type": "execute_result",
          "data": {
            "text/plain": [
              "[[0], [0, 1], [0, 1, 2], [0, 1, 2, 3], [0, 1, 2, 3, 4]]"
            ]
          },
          "metadata": {},
          "execution_count": 1
        }
      ],
      "source": [
        "[[j for j in range(i+1)] for i in range(5)]"
      ]
    },
    {
      "cell_type": "markdown",
      "id": "a25b0aa2",
      "metadata": {
        "id": "a25b0aa2"
      },
      "source": [
        "2. Genera la siguiente lista utilizando comprehension:\n",
        "\n",
        "`[[], [1], [1], [1, 3], [1, 3]]`"
      ]
    },
    {
      "cell_type": "code",
      "execution_count": 2,
      "id": "521e6165",
      "metadata": {
        "colab": {
          "base_uri": "https://localhost:8080/"
        },
        "id": "521e6165",
        "outputId": "24ff02cb-bd13-4b3c-e606-ed67ed739488"
      },
      "outputs": [
        {
          "output_type": "execute_result",
          "data": {
            "text/plain": [
              "[[], [1], [1], [1, 3], [1, 3]]"
            ]
          },
          "metadata": {},
          "execution_count": 2
        }
      ],
      "source": [
        "[list(range(1, i+1, 2)) for i in range(5)]"
      ]
    },
    {
      "cell_type": "markdown",
      "id": "a318046d",
      "metadata": {
        "id": "a318046d"
      },
      "source": [
        "3. Genera la siguiente lista utilizando comprehension:\n",
        "\n",
        "`[[], [1], [1, 3], [1, 3, 5], [1, 3, 5, 7]]`"
      ]
    },
    {
      "cell_type": "code",
      "execution_count": 3,
      "id": "991ae102",
      "metadata": {
        "colab": {
          "base_uri": "https://localhost:8080/"
        },
        "id": "991ae102",
        "outputId": "3c20ca3a-f4bb-4bf2-cd5b-81c810ecbc18"
      },
      "outputs": [
        {
          "output_type": "execute_result",
          "data": {
            "text/plain": [
              "[[], [1], [1, 3], [1, 3, 5], [1, 3, 5, 7]]"
            ]
          },
          "metadata": {},
          "execution_count": 3
        }
      ],
      "source": [
        "[list(range(1, 2*i, 2)) for i in range(5)]"
      ]
    },
    {
      "cell_type": "markdown",
      "id": "4660d085",
      "metadata": {
        "id": "4660d085"
      },
      "source": [
        "4. Genera la siguiente lista utilizando comprehension:\n",
        "\n",
        "`[[], [3], [5, 7], [7, 9, 11], [9, 11, 13, 15]]`"
      ]
    },
    {
      "cell_type": "code",
      "execution_count": 4,
      "id": "67449963",
      "metadata": {
        "colab": {
          "base_uri": "https://localhost:8080/"
        },
        "id": "67449963",
        "outputId": "fd5f0d82-ecbb-41a1-9834-1379d5b4ee71"
      },
      "outputs": [
        {
          "output_type": "execute_result",
          "data": {
            "text/plain": [
              "[[], [3], [5, 7], [7, 9, 11], [9, 11, 13, 15]]"
            ]
          },
          "metadata": {},
          "execution_count": 4
        }
      ],
      "source": [
        "[list(range(2*i+1, 4*i, 2)) for i in range(5)]"
      ]
    },
    {
      "cell_type": "markdown",
      "id": "36eaffaa",
      "metadata": {
        "id": "36eaffaa"
      },
      "source": [
        "5. Genera la siguiente lista utilizando comprehension:\n",
        "\n",
        "```\n",
        "[[],\n",
        " [0, 1],\n",
        " [0, 1, 2, 0, 1, 2],\n",
        " [0, 1, 2, 3, 0, 1, 2, 3, 0, 1, 2, 3],\n",
        " [0, 1, 2, 3, 4, 0, 1, 2, 3, 4, 0, 1, 2, 3, 4, 0, 1, 2, 3, 4]]\n",
        "```"
      ]
    },
    {
      "cell_type": "code",
      "execution_count": null,
      "id": "9c68d1e8",
      "metadata": {
        "id": "9c68d1e8"
      },
      "outputs": [],
      "source": [
        "[list(range(i+1)) * i for i in range(5)]"
      ]
    },
    {
      "cell_type": "markdown",
      "id": "e72a9be1",
      "metadata": {
        "id": "e72a9be1"
      },
      "source": [
        "6. Crea un programa que permita saber si dos frases son anagramas, es decir, tienen las mismas letras en diferente orden:"
      ]
    },
    {
      "cell_type": "code",
      "execution_count": null,
      "id": "77fbc137",
      "metadata": {
        "id": "77fbc137"
      },
      "outputs": [],
      "source": [
        "def son_anagramas(a, b):\n",
        "   a = a.lower().replace(' ', '')\n",
        "   b = b.lower().replace(' ', '')\n",
        "   return sorted(a) == sorted(b)\n",
        "\n",
        "a = input(\"Frase 1: \")\n",
        "b = input(\"Frase 2: \")\n",
        "print(son_anagramas(a, b))"
      ]
    },
    {
      "cell_type": "markdown",
      "id": "b58874d3",
      "metadata": {
        "id": "b58874d3"
      },
      "source": [
        "7. Crea un programa que permita saber si una fecha es válida en el formato \"dd/mm/aaaa\":"
      ]
    },
    {
      "cell_type": "code",
      "execution_count": null,
      "id": "1da2c086",
      "metadata": {
        "id": "1da2c086"
      },
      "outputs": [],
      "source": [
        "def fecha_valida(f):\n",
        "   try:\n",
        "       d, m, a = map(int, f.split('/'))\n",
        "       if m < 1 or m > 12:\n",
        "           return False\n",
        "       if d < 1 or d > 31:\n",
        "           return False\n",
        "       if m in [4, 6, 9, 11] and d > 30:\n",
        "           return False\n",
        "       if m == 2:\n",
        "           if (a % 4 == 0 and a % 100 != 0) or (a % 400 == 0):\n",
        "               return d <= 29\n",
        "           else:\n",
        "               return d <= 28\n",
        "       return True\n",
        "   except:\n",
        "       return False\n",
        "\n",
        "f = input(\"Fecha: \")\n",
        "print(fecha_valida(f))"
      ]
    },
    {
      "cell_type": "markdown",
      "id": "28c1a728",
      "metadata": {
        "id": "28c1a728"
      },
      "source": [
        "8. Crea un programa que permita calcular el promedio de notas de los alumnos, teniendo la siguiente lista de diccionarios:"
      ]
    },
    {
      "cell_type": "code",
      "execution_count": null,
      "id": "fddac840",
      "metadata": {
        "id": "fddac840"
      },
      "outputs": [],
      "source": [
        "alumnos = [\n",
        "   {\"nombre\": \"Juan\", \"notas\": [85, 90, 78]},\n",
        "   {\"nombre\": \"Ana\", \"notas\": [92, 88, 94]},\n",
        "   {\"nombre\": \"Pedro\", \"notas\": [76, 82, 80]}\n",
        "]\n",
        "\n",
        "for a in alumnos:\n",
        "   p = sum(a[\"notas\"]) / len(a[\"notas\"])\n",
        "   print(f\"{a['nombre']}: {p}\")"
      ]
    },
    {
      "cell_type": "markdown",
      "id": "e41dbc20",
      "metadata": {
        "id": "e41dbc20"
      },
      "source": [
        "9. Crea un programa que fusione dos diccionarios, pero si los diccionarios tienen claves en común se sume su valor, asumiendo que ambos valores son del mismo tipo:"
      ]
    },
    {
      "cell_type": "code",
      "execution_count": null,
      "id": "6d7af8dc",
      "metadata": {
        "id": "6d7af8dc"
      },
      "outputs": [],
      "source": [
        "def fusionar(d1, d2):\n",
        "   r = d1.copy()\n",
        "   for k, v in d2.items():\n",
        "       if k in r:\n",
        "           r[k] += v\n",
        "       else:\n",
        "           r[k] = v\n",
        "   return r\n",
        "\n",
        "d1 = {\"a\": 1, \"b\": 2, \"c\": 3}\n",
        "d2 = {\"b\": 4, \"c\": 5, \"d\": 6}\n",
        "print(fusionar(d1, d2))"
      ]
    },
    {
      "cell_type": "markdown",
      "id": "5985d56e",
      "metadata": {
        "id": "5985d56e"
      },
      "source": [
        "10. Escribe un programa que permita saber si un número es semiperfecto. Los números semiperfectos son números naturales que son iguales a la suma de algunos de sus divisores propios."
      ]
    },
    {
      "cell_type": "code",
      "execution_count": null,
      "id": "3c5f5f8f",
      "metadata": {
        "id": "3c5f5f8f"
      },
      "outputs": [],
      "source": [
        "def es_semiperfecto(n):\n",
        "   d = [i for i in range(1, n) if n % i == 0]\n",
        "\n",
        "   def suma_subset(i, s):\n",
        "       if s == 0:\n",
        "           return True\n",
        "       if i >= len(d) or s < 0:\n",
        "           return False\n",
        "       return suma_subset(i + 1, s - d[i]) or suma_subset(i + 1, s)\n",
        "\n",
        "   return suma_subset(0, n)\n",
        "\n",
        "n = int(input(\"Numero: \"))\n",
        "print(es_semiperfecto(n))"
      ]
    },
    {
      "cell_type": "markdown",
      "id": "f5098aed",
      "metadata": {
        "id": "f5098aed"
      },
      "source": [
        "11. Escribe un programa que permita imprimir el triángulo de pascal:\n",
        "\n",
        "![image.png](attachment:image.png)\n",
        "\n",
        "El número de filas del triángulo la debe especificar el usuario a través de `input`:"
      ]
    },
    {
      "cell_type": "code",
      "execution_count": 10,
      "id": "da8782ca",
      "metadata": {
        "colab": {
          "base_uri": "https://localhost:8080/"
        },
        "id": "da8782ca",
        "outputId": "82cfba71-4abb-4d2b-9f33-e2437be237b3"
      },
      "outputs": [
        {
          "output_type": "stream",
          "name": "stdout",
          "text": [
            "Filas: 10\n",
            "         1\n",
            "        1 1\n",
            "       1 2 1\n",
            "      1 3 3 1\n",
            "     1 4 6 4 1\n",
            "    1 5 10 10 5 1\n",
            "   1 6 15 20 15 6 1\n",
            "  1 7 21 35 35 21 7 1\n",
            " 1 8 28 56 70 56 28 8 1\n",
            "1 9 36 84 126 126 84 36 9 1\n"
          ]
        }
      ],
      "source": [
        "def triangulo_pascal(n):\n",
        "   for i in range(n):\n",
        "       f = [1]\n",
        "       if i > 0:\n",
        "           for j in range(1, i):\n",
        "               f.append(t[j-1] + t[j])\n",
        "           f.append(1)\n",
        "       t = f\n",
        "       print(' ' * (n - i - 1) + ' '.join(map(str, f)))\n",
        "\n",
        "n = int(input(\"Filas: \"))\n",
        "triangulo_pascal(n)"
      ]
    }
  ],
  "metadata": {
    "kernelspec": {
      "display_name": "Python 3 (ipykernel)",
      "language": "python",
      "name": "python3"
    },
    "colab": {
      "provenance": []
    }
  },
  "nbformat": 4,
  "nbformat_minor": 5
}